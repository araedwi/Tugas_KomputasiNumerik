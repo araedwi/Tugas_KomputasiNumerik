{
  "cells": [
    {
      "cell_type": "markdown",
      "metadata": {
        "id": "GgQXbbPnW-aM"
      },
      "source": [
        "a) kode ini untuk mengimpor library numpy untuk operasi matriks dan sys untuk keluar dari program\n",
        "\n",
        "b) variabel n digunakan untuk variabel inputan SPL yang akan dimasukkan oleh user\n",
        "\n",
        "c) variabel a digunakan untuk menampilkan matriks bernilai 0 dengan jumlah matriks sesuai"
      ]
    },
    {
      "cell_type": "code",
      "execution_count": null,
      "metadata": {
        "id": "tDBM_XNinoUX",
        "colab": {
          "base_uri": "https://localhost:8080/"
        },
        "outputId": "a998e0f0-3be9-4f51-950b-e6e84faab4b4"
      },
      "outputs": [
        {
          "name": "stdout",
          "output_type": "stream",
          "text": [
            "Masukkan jumlah variabel SPL :1\n"
          ]
        },
        {
          "output_type": "execute_result",
          "data": {
            "text/plain": [
              "array([[0., 0.]])"
            ]
          },
          "metadata": {},
          "execution_count": 1
        }
      ],
      "source": [
        "import numpy as np\n",
        "import sys\n",
        "\n",
        "n = int(input('Masukkan jumlah variabel SPL :'))\n",
        "\n",
        "a = np.zeros((n,n+1))\n",
        "a"
      ]
    },
    {
      "cell_type": "markdown",
      "metadata": {
        "id": "3GJs2SK0YAaX"
      },
      "source": [
        "a) codingan print('Isikan koefisien variabel masing-masing') berfungsi untuk meminta input dari user untuk mengisi nilai dari matriks tersebut\n",
        "\n",
        "b)print(a) fungsinya untuk mencetak nilai matriks yang telah di inputkan oleh user\n",
        "\n",
        "c)fungsi kode **for i in range(n):** untuk looping setiap baris di matriks a dimana i merepresentasikan indeks baris a\n",
        "\n",
        "d)fungsi kode ** (if a[i][i] == 0.0):** untuk mengecek elemen diagonal utama pada baris ke i bernilai 0 maka perlu menukar baris tersebut dengan baris dibawahnya yang memiliki elemen pada kolom yang sama tidak bernilai 0\n",
        "\n",
        "e)looping dalam **(for k in range(i + 1, n))** untuk mencari baris dibawahnya yaitu (k) yang memiliki elemen pada kolom ke-i tidak bernilai 0\n",
        "\n",
        "jika ditemukan, baris ke i dan k ditukar menggunakan a[[i,k]] = a[[k,i]]\n",
        "\n",
        "jika tidak ditemukan baris yang dapat ditukar maka program akan menampilkan pesan sistem persamaan tidak menemukan solusi unik"
      ]
    },
    {
      "cell_type": "code",
      "execution_count": null,
      "metadata": {
        "colab": {
          "base_uri": "https://localhost:8080/"
        },
        "id": "0VDyu0lgobc2",
        "outputId": "a1474ac4-f2a3-43e8-b5a0-d66578838240"
      },
      "outputs": [
        {
          "output_type": "stream",
          "name": "stdout",
          "text": [
            "Isikan koefisien variabel masing-masing:\n",
            "a[0][0]: 12\n",
            "a[0][1]: 13\n",
            "[[12. 13.]]\n"
          ]
        }
      ],
      "source": [
        "\n",
        "print('Isikan koefisien variabel masing-masing:')\n",
        "for i in range(n):\n",
        "    for j in range(n + 1):\n",
        "        a[i][j] = float(input(f'a[{i}][{j}]: '))\n",
        "\n",
        "print(a)\n",
        "\n",
        "for i in range(n):\n",
        "  if a[i][i] == 0.0:\n",
        "    for k in range(i + 1,n):\n",
        "      if a [k][i] != 0.0:\n",
        "        a[[i, k]] = a[[k, i]]\n",
        "        break\n",
        "      else:\n",
        "        sys.exit('Sistem persamaan tidak memiliki solusi unik')\n",
        "\n"
      ]
    },
    {
      "cell_type": "markdown",
      "metadata": {
        "id": "3c7bBxrtdnBc"
      },
      "source": [
        "a) looping baris **(for j in range(i + 1, n)):** untuk loop baris ke i dalam matriks a. loop dimulai dari i + 1 karena hanya ingin memproses baris di bawah baris pivot dan berakhir dengan n\n",
        "\n",
        "\n",
        "b) **(rasio = a[j][i] / a[i][i]):** untuk menghitung rasio antara elemen pada baris j dan kolom ke i dengan elemen pivot. rasio ini juga untuk mengurangkan kelipatan baris pivot dengan baris j sehingga elemen pada kolom ke i menjadi 0\n",
        "\n",
        "c) **(for k in range(n + 1)):** untuk loop setiap kolom pada baris ke j.loop dimulai dari 0 dan berakhir pada n+1(jumlah kolom pada matriks) karena ingin memproses semua kolom pada baris ke j.\n",
        "\n",
        "d) **(a[j][k] = a[j][k] - rasio * a[i][k]):** melakukan operasi eliminasi dengan mengurangkan kelipatan baris pivot dari baris ke j\n",
        "\n",
        "e) kode ini untuk membuat sebuah array bernama x dengan ukuran n dengan semua elemennya diinisialisasi dengan nilai 0. Array ini akan digunakan untuk menyimpan solusi dari SPL yg sedang diselesaikan\n",
        "\n",
        "f) **x[n - 1] = a[n - 1][n] / a[n - 1][n - 1]** berfungsi untuk menghitung nilai variabel terakhir yaitu (xn) dalam SPL\n",
        "\n",
        "g) **(for i in range(n - 2, -1, -1)):** untuk loop variabel SPL dari variabel variabel kedua terakhir (xn-1) hingga variabel pertama (x1) dengan step -1 kita akan melakukan iterasi mundur\n",
        "\n",
        "h) **x[i] = a[i][n]\n",
        "    for j in range(i + 1, n):\n",
        "        x[i] = x[i] - a[i][j] * x[j]\n",
        "    x[i] = x[i] / a[i][i]** rumus untuk menghitung variabel\n",
        "\n",
        "i) **print(\"Solusi:\")\n",
        "for i in range(n):\n",
        "     print(f'x{i + 1} = {x[i]}')** untuk menampilkan solusi"
      ]
    },
    {
      "cell_type": "code",
      "execution_count": null,
      "metadata": {
        "colab": {
          "base_uri": "https://localhost:8080/"
        },
        "id": "Z07H5HXMbR9S",
        "outputId": "13cf9424-20ff-4743-e842-c7d443082b93"
      },
      "outputs": [
        {
          "output_type": "stream",
          "name": "stdout",
          "text": [
            "Solusi:\n",
            "x1 = 1.0833333333333333\n"
          ]
        }
      ],
      "source": [
        "for j in range(i + 1, n):\n",
        "        rasio = a[j][i] / a[i][i]\n",
        "        for k in range(n + 1):\n",
        "            a[j][k] = a[j][k] - rasio * a[i][k]\n",
        "\n",
        "x = np.zeros(n)\n",
        "\n",
        "\n",
        "x[n - 1] = a[n - 1][n] / a[n - 1][n - 1]\n",
        "\n",
        "for i in range(n - 2, -1, -1):\n",
        "    x[i] = a[i][n]\n",
        "    for j in range(i + 1, n):\n",
        "        x[i] = x[i] - a[i][j] * x[j]\n",
        "    x[i] = x[i] / a[i][i]\n",
        "print(\"Solusi:\")\n",
        "for i in range(n):\n",
        "     print(f'x{i + 1} = {x[i]}')\n"
      ]
    }
  ],
  "metadata": {
    "colab": {
      "provenance": []
    },
    "kernelspec": {
      "display_name": "Python 3",
      "name": "python3"
    },
    "language_info": {
      "name": "python"
    }
  },
  "nbformat": 4,
  "nbformat_minor": 0
}